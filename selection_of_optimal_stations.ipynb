{
 "cells": [
  {
   "cell_type": "markdown",
   "metadata": {},
   "source": [
    "## A program enabling the selection of optimal stations from among the existing networks of measurement stations to determine the spatial average value of the measured environmental parameter in the studied area."
   ]
  },
  {
   "cell_type": "code",
   "execution_count": 1,
   "metadata": {
    "scrolled": true
   },
   "outputs": [
    {
     "name": "stdout",
     "output_type": "stream",
     "text": [
      "Optimal combination of measuring stations: ('VSJ_20925', 'F80', 'F18')\n"
     ]
    }
   ],
   "source": [
    "import numpy as np\n",
    "import pandas as pd\n",
    "from sklearn import linear_model\n",
    "from sklearn.metrics import mean_squared_error\n",
    "from itertools import combinations\n",
    "\n",
    "file_name=r'./data/SST_day.csv'         # input file name (including path)\n",
    "df=pd. read_csv(file_name)\n",
    "number_of_stations=3                    # define the number of measurement points\n",
    "dependent_variable='AVG'\n",
    "independent_variables=df.columns[2:]\n",
    "y = df[dependent_variable]\n",
    "\n",
    "#make a list of all combinations for independent stations \n",
    "independent_station_combinations = combinations(independent_variables, number_of_stations)\n",
    "regr = linear_model.LinearRegression()\n",
    "best_MSE=np.inf\n",
    "best_regr=None\n",
    "best_match=None\n",
    "for combination in independent_station_combinations:\n",
    "    x = df[list(combination)]\n",
    "    # Make a match with sklearn\n",
    "    regr.fit(x, y)              #Make predictions using the testing set\n",
    "    y_pred = regr.predict(x)    #Calculate match stats\n",
    "    MSE=mean_squared_error(y, y_pred)\n",
    "    if MSE<best_MSE:\n",
    "        best_MSE=MSE\n",
    "        best_regr=regr\n",
    "        best_match=combination\n",
    "print(f\"Optimal combination of measuring stations: {best_match}\")"
   ]
  },
  {
   "cell_type": "markdown",
   "metadata": {},
   "source": [
    "## Calculate statistics"
   ]
  },
  {
   "cell_type": "code",
   "execution_count": 2,
   "metadata": {},
   "outputs": [
    {
     "name": "stdout",
     "output_type": "stream",
     "text": [
      "RMSE\tR^2\tR^2_adj\n",
      "0.2636\t0.9979\t0.9979\n",
      "Station\t-0.2228\t0.0090\n",
      "VSJ_20925\t0.3149\t0.0019 \n",
      "F80\t0.4375\t0.0034 \n",
      "F18\t0.2530\t0.0029 \n"
     ]
    }
   ],
   "source": [
    "import statsmodels.api as sm\n",
    "x = df[list(best_match)]\n",
    "x = sm.add_constant(x)\n",
    "model = sm.OLS(y, x)\n",
    "results = model.fit()\n",
    "print(f\"RMSE\\tR^2\\tR^2_adj\")\n",
    "print(f\"{np.sqrt(best_MSE):.4f}\\t{results.rsquared:.4f}\\t{results.rsquared_adj:.4f}\")\n",
    "print(f\"Station\\t{results.params[0]:.4f}\\t{results.bse[0]:.4f}\")\n",
    "for i in range(len(best_match)):\n",
    "    print(f\"{best_match[i]}\\t{results.params[i+1]:.4f}\\t{results.bse[i+1]:.4f} \")"
   ]
  },
  {
   "cell_type": "code",
   "execution_count": null,
   "metadata": {},
   "outputs": [],
   "source": []
  }
 ],
 "metadata": {
  "kernelspec": {
   "display_name": "Python 3 (ipykernel)",
   "language": "python",
   "name": "python3"
  },
  "language_info": {
   "codemirror_mode": {
    "name": "ipython",
    "version": 3
   },
   "file_extension": ".py",
   "mimetype": "text/x-python",
   "name": "python",
   "nbconvert_exporter": "python",
   "pygments_lexer": "ipython3",
   "version": "3.9.13"
  }
 },
 "nbformat": 4,
 "nbformat_minor": 2
}